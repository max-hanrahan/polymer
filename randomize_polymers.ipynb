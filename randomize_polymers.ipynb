{
 "cells": [
  {
   "cell_type": "markdown",
   "id": "678eada9",
   "metadata": {},
   "source": [
    "# Outputs three .xyz files: one that randomizes the posititons of the atoms, one that lists the bond configs, and one that lists the angle configs. \n",
    "# Requires polymers.txt (only the initial atomic positions) in same directory. "
   ]
  },
  {
   "cell_type": "code",
   "execution_count": 106,
   "id": "c2acf27f",
   "metadata": {},
   "outputs": [],
   "source": [
    "import numpy as np\n",
    "import pandas as pd\n",
    "columns = ['index', 'chain', 'type', 'xcoord', 'ycoord', 'zcoord']\n",
    "atoms = pd.read_csv('polymers.txt', names = columns)"
   ]
  },
  {
   "cell_type": "code",
   "execution_count": 107,
   "id": "6ba9379d",
   "metadata": {},
   "outputs": [],
   "source": [
    "CHAIN_LENGTH = 20 # number of chains per polymer\n",
    "STIFFENED_CHAINS = 20 # number of chains to stiffen\n",
    "TOTAL_CHAINS = 400 # total number of chains\n",
    "TYPE_1 = 1 # atom type 1\n",
    "TYPE_2 = 2 # atom_type 2"
   ]
  },
  {
   "cell_type": "code",
   "execution_count": 108,
   "id": "bd94f66d",
   "metadata": {
    "scrolled": true
   },
   "outputs": [],
   "source": [
    "# todo: maybe specify percentages so we don't have to keep changing these \"global\" variables\n",
    "CHAIN_LENGTH = int(CHAIN_LENGTH / 2) # cut the chains in half\n",
    "STIFFENED_CHAINS = int(STIFFENED_CHAINS * 2) # double the stiffened chains\n",
    "TOTAL_CHAINS = int(TOTAL_CHAINS * 2) # double the total chains\n",
    "\n",
    "# create new column of correct chain indices\n",
    "chain_col = np.zeros((TOTAL_CHAINS, CHAIN_LENGTH), dtype = int)\n",
    "for i in range(0, TOTAL_CHAINS):\n",
    "    chain_col[i] = [i+1]*CHAIN_LENGTH \n",
    "chain_col = chain_col.flatten() "
   ]
  },
  {
   "cell_type": "code",
   "execution_count": 109,
   "id": "6e918328",
   "metadata": {},
   "outputs": [],
   "source": [
    "atoms['chain'] = chain_col # insert new column into the dataframe"
   ]
  },
  {
   "cell_type": "code",
   "execution_count": 110,
   "id": "edb4510f",
   "metadata": {},
   "outputs": [],
   "source": [
    "# here we want to choose 40 chains to stiffen at random from a sequence of 800 chains. \n",
    "import random\n",
    "seq = range(1,TOTAL_CHAINS + 1)\n",
    "stiffs = random.sample(seq, STIFFENED_CHAINS) # indices of the stiffened chains"
   ]
  },
  {
   "cell_type": "code",
   "execution_count": 111,
   "id": "2960d1f8",
   "metadata": {},
   "outputs": [],
   "source": [
    "atoms.loc[atoms['chain'].isin(stiffs), 'type'] = TYPE_2"
   ]
  },
  {
   "cell_type": "code",
   "execution_count": 112,
   "id": "8fd9399e",
   "metadata": {},
   "outputs": [],
   "source": [
    "# first, sort them by type such that all the type 2 are at the end\n",
    "atoms = atoms.sort_values(by = ['type', 'index'])\n",
    "# then, re-order the index and chain so that our stiffened ones are at the end once again:\n",
    "atoms['chain'] = chain_col\n",
    "atoms['index'] = np.arange(1, TOTAL_CHAINS*CHAIN_LENGTH+1, dtype = int)"
   ]
  },
  {
   "cell_type": "code",
   "execution_count": 113,
   "id": "17ce83ee",
   "metadata": {},
   "outputs": [],
   "source": [
    "# re-print the bonds:\n",
    "first_col = np.arange(1, (CHAIN_LENGTH-1)*TOTAL_CHAINS + 1, dtype = int)\n",
    "second_col = np.ones_like(first_col)\n",
    "\n",
    "# third col is trickier to generate:\n",
    "third_col = []\n",
    "for i in range(CHAIN_LENGTH * TOTAL_CHAINS):\n",
    "    if i % CHAIN_LENGTH != 0: # if it is not at the end of the chain...\n",
    "        third_col.append(i) # add number to array \n",
    "third_col = np.array(third_col)\n",
    "fourth_col = third_col + 1 # why I love numpy\n",
    "\n",
    "bonds = pd.DataFrame(np.transpose([first_col, second_col, third_col, fourth_col]))"
   ]
  },
  {
   "cell_type": "code",
   "execution_count": 114,
   "id": "10e014d9",
   "metadata": {},
   "outputs": [],
   "source": [
    "# similar setup for new angles\n",
    "angles_1 = np.arange(1, (CHAIN_LENGTH-2)*STIFFENED_CHAINS + 1, dtype = int)\n",
    "angles_2 = np.ones_like(angles_1)\n",
    "\n",
    "# third col starts from 1 and counts up to number of stiffened monomers\n",
    "angles_3 = []\n",
    "for i in range(CHAIN_LENGTH * STIFFENED_CHAINS):\n",
    "    # skip the last two on the chain in this column\n",
    "    if ((i +1) % 10!= 0) and ((i+2)%10 != 0):\n",
    "        angles_3.append(i+ (TOTAL_CHAINS - STIFFENED_CHAINS) * CHAIN_LENGTH + 1)\n",
    "angles_3 = np.array(angles_3)\n",
    "angles_4 = angles_3 + 1\n",
    "angles_5 = angles_4 + 1 \n",
    "\n",
    "angles = pd.DataFrame(np.transpose([angles_1, angles_2, angles_3, angles_4, angles_5]))"
   ]
  },
  {
   "cell_type": "code",
   "execution_count": 115,
   "id": "12d1979d",
   "metadata": {},
   "outputs": [],
   "source": [
    "# save everything to text for copying and pasting back into LAMMPS\n",
    "# todo: perhaps there is a way for python to insert these into their proper locations?\n",
    "atoms.to_csv('randomized_polys.xyz', sep = ' ', index = False, header = False)"
   ]
  },
  {
   "cell_type": "code",
   "execution_count": 116,
   "id": "a3a950ba",
   "metadata": {},
   "outputs": [],
   "source": [
    "angles.to_csv('corrected_angles.xyz', sep = ' ', index = False, header = False)"
   ]
  },
  {
   "cell_type": "code",
   "execution_count": 117,
   "id": "ebfec166",
   "metadata": {},
   "outputs": [],
   "source": [
    "bonds.to_csv('corrected_bonds.xyz', sep = ' ', index = False, header = False)"
   ]
  },
  {
   "cell_type": "code",
   "execution_count": 118,
   "id": "09d04656",
   "metadata": {},
   "outputs": [
    {
     "data": {
      "text/html": [
       "<div>\n",
       "<style scoped>\n",
       "    .dataframe tbody tr th:only-of-type {\n",
       "        vertical-align: middle;\n",
       "    }\n",
       "\n",
       "    .dataframe tbody tr th {\n",
       "        vertical-align: top;\n",
       "    }\n",
       "\n",
       "    .dataframe thead th {\n",
       "        text-align: right;\n",
       "    }\n",
       "</style>\n",
       "<table border=\"1\" class=\"dataframe\">\n",
       "  <thead>\n",
       "    <tr style=\"text-align: right;\">\n",
       "      <th></th>\n",
       "      <th>index</th>\n",
       "      <th>chain</th>\n",
       "      <th>type</th>\n",
       "      <th>xcoord</th>\n",
       "      <th>ycoord</th>\n",
       "      <th>zcoord</th>\n",
       "    </tr>\n",
       "  </thead>\n",
       "  <tbody>\n",
       "    <tr>\n",
       "      <th>0</th>\n",
       "      <td>1</td>\n",
       "      <td>1</td>\n",
       "      <td>1</td>\n",
       "      <td>1.808138</td>\n",
       "      <td>8.552811</td>\n",
       "      <td>-3.920247</td>\n",
       "    </tr>\n",
       "    <tr>\n",
       "      <th>1</th>\n",
       "      <td>2</td>\n",
       "      <td>1</td>\n",
       "      <td>1</td>\n",
       "      <td>2.378814</td>\n",
       "      <td>8.643194</td>\n",
       "      <td>-4.693798</td>\n",
       "    </tr>\n",
       "    <tr>\n",
       "      <th>2</th>\n",
       "      <td>3</td>\n",
       "      <td>1</td>\n",
       "      <td>1</td>\n",
       "      <td>1.558151</td>\n",
       "      <td>8.802928</td>\n",
       "      <td>-5.169968</td>\n",
       "    </tr>\n",
       "    <tr>\n",
       "      <th>3</th>\n",
       "      <td>4</td>\n",
       "      <td>1</td>\n",
       "      <td>1</td>\n",
       "      <td>0.646846</td>\n",
       "      <td>8.798185</td>\n",
       "      <td>-5.438705</td>\n",
       "    </tr>\n",
       "    <tr>\n",
       "      <th>4</th>\n",
       "      <td>5</td>\n",
       "      <td>1</td>\n",
       "      <td>1</td>\n",
       "      <td>0.872933</td>\n",
       "      <td>7.917705</td>\n",
       "      <td>-5.610586</td>\n",
       "    </tr>\n",
       "    <tr>\n",
       "      <th>...</th>\n",
       "      <td>...</td>\n",
       "      <td>...</td>\n",
       "      <td>...</td>\n",
       "      <td>...</td>\n",
       "      <td>...</td>\n",
       "      <td>...</td>\n",
       "    </tr>\n",
       "    <tr>\n",
       "      <th>7865</th>\n",
       "      <td>7996</td>\n",
       "      <td>800</td>\n",
       "      <td>2</td>\n",
       "      <td>2.349045</td>\n",
       "      <td>-6.558442</td>\n",
       "      <td>-7.913696</td>\n",
       "    </tr>\n",
       "    <tr>\n",
       "      <th>7866</th>\n",
       "      <td>7997</td>\n",
       "      <td>800</td>\n",
       "      <td>2</td>\n",
       "      <td>2.365350</td>\n",
       "      <td>-7.486704</td>\n",
       "      <td>-7.733171</td>\n",
       "    </tr>\n",
       "    <tr>\n",
       "      <th>7867</th>\n",
       "      <td>7998</td>\n",
       "      <td>800</td>\n",
       "      <td>2</td>\n",
       "      <td>2.761539</td>\n",
       "      <td>-8.126889</td>\n",
       "      <td>-8.300501</td>\n",
       "    </tr>\n",
       "    <tr>\n",
       "      <th>7868</th>\n",
       "      <td>7999</td>\n",
       "      <td>800</td>\n",
       "      <td>2</td>\n",
       "      <td>1.920144</td>\n",
       "      <td>-7.855698</td>\n",
       "      <td>-8.669660</td>\n",
       "    </tr>\n",
       "    <tr>\n",
       "      <th>7869</th>\n",
       "      <td>8000</td>\n",
       "      <td>800</td>\n",
       "      <td>2</td>\n",
       "      <td>1.523396</td>\n",
       "      <td>-7.044220</td>\n",
       "      <td>-8.439215</td>\n",
       "    </tr>\n",
       "  </tbody>\n",
       "</table>\n",
       "<p>8000 rows × 6 columns</p>\n",
       "</div>"
      ],
      "text/plain": [
       "      index  chain  type    xcoord    ycoord    zcoord\n",
       "0         1      1     1  1.808138  8.552811 -3.920247\n",
       "1         2      1     1  2.378814  8.643194 -4.693798\n",
       "2         3      1     1  1.558151  8.802928 -5.169968\n",
       "3         4      1     1  0.646846  8.798185 -5.438705\n",
       "4         5      1     1  0.872933  7.917705 -5.610586\n",
       "...     ...    ...   ...       ...       ...       ...\n",
       "7865   7996    800     2  2.349045 -6.558442 -7.913696\n",
       "7866   7997    800     2  2.365350 -7.486704 -7.733171\n",
       "7867   7998    800     2  2.761539 -8.126889 -8.300501\n",
       "7868   7999    800     2  1.920144 -7.855698 -8.669660\n",
       "7869   8000    800     2  1.523396 -7.044220 -8.439215\n",
       "\n",
       "[8000 rows x 6 columns]"
      ]
     },
     "execution_count": 118,
     "metadata": {},
     "output_type": "execute_result"
    }
   ],
   "source": [
    "atoms"
   ]
  },
  {
   "cell_type": "code",
   "execution_count": null,
   "id": "640946ca",
   "metadata": {},
   "outputs": [],
   "source": []
  }
 ],
 "metadata": {
  "kernelspec": {
   "display_name": "Python 3 (ipykernel)",
   "language": "python",
   "name": "python3"
  },
  "language_info": {
   "codemirror_mode": {
    "name": "ipython",
    "version": 3
   },
   "file_extension": ".py",
   "mimetype": "text/x-python",
   "name": "python",
   "nbconvert_exporter": "python",
   "pygments_lexer": "ipython3",
   "version": "3.7.9"
  }
 },
 "nbformat": 4,
 "nbformat_minor": 5
}
