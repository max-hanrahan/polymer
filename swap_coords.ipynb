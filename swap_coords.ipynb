{
 "cells": [
  {
   "cell_type": "markdown",
   "id": "678eada9",
   "metadata": {},
   "source": [
    "# Creates a file called swapped_coords.xyz that swaps the coordinates to our desired outcome. \n",
    "# Requires polymers.txt (the initial atomic positions) in same directory. "
   ]
  },
  {
   "cell_type": "code",
   "execution_count": 200,
   "id": "2ec5793e",
   "metadata": {},
   "outputs": [],
   "source": [
    "import numpy as np\n",
    "names = 'index,chain,type,xcoord,ycoord,zcoord'\n",
    "coords = np.genfromtxt('polymers.txt', delimiter = ',', names = names, dtype = float)\n",
    "coords[0][0] = 1 # somehow the first became a Nan? So I reset"
   ]
  },
  {
   "cell_type": "code",
   "execution_count": 201,
   "id": "12989b55",
   "metadata": {},
   "outputs": [],
   "source": [
    "CHAIN_LENGTH = 20 # number of chains per polymer\n",
    "STIFFENED_CHAINS = 20 # number of chains to stiffen\n",
    "TOTAL_CHAINS = 400 # total number of chains\n",
    "TYPE_1 = 1 # atom type 1\n",
    "TYPE_2 = 2 # atom_type 2\n",
    "\n",
    "# we want a new chain every *this* many steps:\n",
    "chain_steps = TOTAL_CHAINS/STIFFENED_CHAINS \n",
    "\n",
    "def iofc(chain):\n",
    "    # \"index of chain\": takes chain number and returns first possible index\n",
    "    return int(CHAIN_LENGTH *(chain - 1) + 1)\n",
    "\n",
    "# inverse of the above, for debugging\n",
    "def cofi(index):\n",
    "    return int((index + 19)/CHAIN_LENGTH)\n",
    "\n",
    "def swap_chain(chain):\n",
    "    # big picture is that 20, 40 ...380 -> 381, 382...399\n",
    "    return chain//20 + int(TOTAL_CHAINS - STIFFENED_CHAINS)"
   ]
  },
  {
   "cell_type": "code",
   "execution_count": 202,
   "id": "32c88ef6",
   "metadata": {
    "scrolled": false
   },
   "outputs": [],
   "source": [
    "for j in range(1, STIFFENED_CHAINS): \n",
    "    current_chain = CHAIN_LENGTH*j # the number of the chain we want to move to the end\n",
    "    new_chain = swap_chain(current_chain) # the position of the moved chain\n",
    "    for i in range((iofc(current_chain) - 1), iofc(current_chain + 1) -1):\n",
    "        new_index = iofc(new_chain) - iofc(current_chain) + (i + 1)\n",
    "        coords[i]['index'] = int(new_index) # update the chain index\n",
    "        coords[i]['chain'] = int(new_chain) # change the chain\n",
    "        coords[i]['type'] = int(TYPE_2) # change the type\n",
    "    for i in range((iofc(current_chain + 1) -1), iofc(current_chain + chain_steps) -1):\n",
    "        coords[i]['index'] -= CHAIN_LENGTH *j \n",
    "        coords[i]['chain'] -=j\n",
    "        # we don't modify the atom type here  \n",
    "        \n",
    " # this loop does not catch the final case, \n",
    "# where the atoms on the final chain become of type 2. \n",
    "# but it's getting late and I will fix it in an inelegant way:\n",
    "\n",
    "# naive method to convert this to a 2d array\n",
    "# todo: investigate more pythonic ways of doing this\n",
    "x = []\n",
    "for arrs in coords:\n",
    "    items = []\n",
    "    for item in arrs: \n",
    "        items.append(item)\n",
    "    x.append(items)\n",
    "x = np.array(x)\n",
    "# if chain == 400, make type = 2\n",
    "x[:,2][x[:,1] == 400] = TYPE_2"
   ]
  },
  {
   "cell_type": "code",
   "execution_count": 203,
   "id": "acad5014",
   "metadata": {},
   "outputs": [],
   "source": [
    "np.savetxt('swapped_polys.xyz', x, delimiter = ' ')"
   ]
  },
  {
   "cell_type": "code",
   "execution_count": null,
   "id": "51841078",
   "metadata": {},
   "outputs": [],
   "source": []
  }
 ],
 "metadata": {
  "kernelspec": {
   "display_name": "Python 3 (ipykernel)",
   "language": "python",
   "name": "python3"
  },
  "language_info": {
   "codemirror_mode": {
    "name": "ipython",
    "version": 3
   },
   "file_extension": ".py",
   "mimetype": "text/x-python",
   "name": "python",
   "nbconvert_exporter": "python",
   "pygments_lexer": "ipython3",
   "version": "3.7.9"
  }
 },
 "nbformat": 4,
 "nbformat_minor": 5
}
